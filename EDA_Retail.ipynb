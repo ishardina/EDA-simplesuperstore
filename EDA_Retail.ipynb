{
  "nbformat": 4,
  "nbformat_minor": 0,
  "metadata": {
    "colab": {
      "name": "EDA_Retail.ipynb",
      "provenance": [],
      "collapsed_sections": []
    },
    "kernelspec": {
      "name": "python3",
      "display_name": "Python 3"
    }
  },
  "cells": [
    {
      "cell_type": "markdown",
      "metadata": {
        "id": "62lFggv_VYq-"
      },
      "source": [
        "# **Exploratory Data Analysis**\n",
        "Exploratory data analysis (EDA) is a crucial component of data science which allows you to develop the gist of what your data look like and what kinds of questions might be answered by them.\n",
        "Ultimately, EDA is important because it allows the investigator to make critical decisions about what is interesting to pursue and what probably isn’t worth following up on and thus building a hypothesis using the relationships between variables."
      ]
    },
    {
      "cell_type": "markdown",
      "metadata": {
        "id": "DmlBVjCzWRbj"
      },
      "source": [
        "# **Context of Data**\n",
        "In this notebook I will use a SampleSuperstore dataset. It contains information about products, sales, profits, and so on that can use to identify key areas for improvement within this fictitious company."
      ]
    },
    {
      "cell_type": "markdown",
      "metadata": {
        "id": "vqQ1jlFKg6xs"
      },
      "source": [
        "### Author : Ishardina Cholifatul Hidayati"
      ]
    },
    {
      "cell_type": "code",
      "metadata": {
        "id": "5SQiAUvZVEba"
      },
      "source": [
        "# import all libaries requires in this notebook\n",
        "import pandas as pd\n",
        "import numpy as np\n",
        "import seaborn as sns\n",
        "\n",
        "from datetime import datetime\n",
        "import matplotlib.pyplot as plt\n",
        "%matplotlib inline"
      ],
      "execution_count": null,
      "outputs": []
    },
    {
      "cell_type": "code",
      "metadata": {
        "id": "6TH3xRrxihg5",
        "colab": {
          "base_uri": "https://localhost:8080/",
          "height": 306
        },
        "outputId": "f95f67a1-e1c6-4768-febc-a60307051c70"
      },
      "source": [
        "# load the dataset and create their dataframes\n",
        "path = \"/content/SampleSuperstore.csv\"\n",
        "df = pd.read_csv(path)\n",
        "df.head()"
      ],
      "execution_count": null,
      "outputs": [
        {
          "output_type": "execute_result",
          "data": {
            "text/html": [
              "<div>\n",
              "<style scoped>\n",
              "    .dataframe tbody tr th:only-of-type {\n",
              "        vertical-align: middle;\n",
              "    }\n",
              "\n",
              "    .dataframe tbody tr th {\n",
              "        vertical-align: top;\n",
              "    }\n",
              "\n",
              "    .dataframe thead th {\n",
              "        text-align: right;\n",
              "    }\n",
              "</style>\n",
              "<table border=\"1\" class=\"dataframe\">\n",
              "  <thead>\n",
              "    <tr style=\"text-align: right;\">\n",
              "      <th></th>\n",
              "      <th>Ship Mode</th>\n",
              "      <th>Segment</th>\n",
              "      <th>Country</th>\n",
              "      <th>City</th>\n",
              "      <th>State</th>\n",
              "      <th>Postal Code</th>\n",
              "      <th>Region</th>\n",
              "      <th>Category</th>\n",
              "      <th>Sub-Category</th>\n",
              "      <th>Sales</th>\n",
              "      <th>Quantity</th>\n",
              "      <th>Discount</th>\n",
              "      <th>Profit</th>\n",
              "    </tr>\n",
              "  </thead>\n",
              "  <tbody>\n",
              "    <tr>\n",
              "      <th>0</th>\n",
              "      <td>Second Class</td>\n",
              "      <td>Consumer</td>\n",
              "      <td>United States</td>\n",
              "      <td>Henderson</td>\n",
              "      <td>Kentucky</td>\n",
              "      <td>42420</td>\n",
              "      <td>South</td>\n",
              "      <td>Furniture</td>\n",
              "      <td>Bookcases</td>\n",
              "      <td>261.9600</td>\n",
              "      <td>2</td>\n",
              "      <td>0.00</td>\n",
              "      <td>41.9136</td>\n",
              "    </tr>\n",
              "    <tr>\n",
              "      <th>1</th>\n",
              "      <td>Second Class</td>\n",
              "      <td>Consumer</td>\n",
              "      <td>United States</td>\n",
              "      <td>Henderson</td>\n",
              "      <td>Kentucky</td>\n",
              "      <td>42420</td>\n",
              "      <td>South</td>\n",
              "      <td>Furniture</td>\n",
              "      <td>Chairs</td>\n",
              "      <td>731.9400</td>\n",
              "      <td>3</td>\n",
              "      <td>0.00</td>\n",
              "      <td>219.5820</td>\n",
              "    </tr>\n",
              "    <tr>\n",
              "      <th>2</th>\n",
              "      <td>Second Class</td>\n",
              "      <td>Corporate</td>\n",
              "      <td>United States</td>\n",
              "      <td>Los Angeles</td>\n",
              "      <td>California</td>\n",
              "      <td>90036</td>\n",
              "      <td>West</td>\n",
              "      <td>Office Supplies</td>\n",
              "      <td>Labels</td>\n",
              "      <td>14.6200</td>\n",
              "      <td>2</td>\n",
              "      <td>0.00</td>\n",
              "      <td>6.8714</td>\n",
              "    </tr>\n",
              "    <tr>\n",
              "      <th>3</th>\n",
              "      <td>Standard Class</td>\n",
              "      <td>Consumer</td>\n",
              "      <td>United States</td>\n",
              "      <td>Fort Lauderdale</td>\n",
              "      <td>Florida</td>\n",
              "      <td>33311</td>\n",
              "      <td>South</td>\n",
              "      <td>Furniture</td>\n",
              "      <td>Tables</td>\n",
              "      <td>957.5775</td>\n",
              "      <td>5</td>\n",
              "      <td>0.45</td>\n",
              "      <td>-383.0310</td>\n",
              "    </tr>\n",
              "    <tr>\n",
              "      <th>4</th>\n",
              "      <td>Standard Class</td>\n",
              "      <td>Consumer</td>\n",
              "      <td>United States</td>\n",
              "      <td>Fort Lauderdale</td>\n",
              "      <td>Florida</td>\n",
              "      <td>33311</td>\n",
              "      <td>South</td>\n",
              "      <td>Office Supplies</td>\n",
              "      <td>Storage</td>\n",
              "      <td>22.3680</td>\n",
              "      <td>2</td>\n",
              "      <td>0.20</td>\n",
              "      <td>2.5164</td>\n",
              "    </tr>\n",
              "  </tbody>\n",
              "</table>\n",
              "</div>"
            ],
            "text/plain": [
              "        Ship Mode    Segment        Country  ... Quantity Discount    Profit\n",
              "0    Second Class   Consumer  United States  ...        2     0.00   41.9136\n",
              "1    Second Class   Consumer  United States  ...        3     0.00  219.5820\n",
              "2    Second Class  Corporate  United States  ...        2     0.00    6.8714\n",
              "3  Standard Class   Consumer  United States  ...        5     0.45 -383.0310\n",
              "4  Standard Class   Consumer  United States  ...        2     0.20    2.5164\n",
              "\n",
              "[5 rows x 13 columns]"
            ]
          },
          "metadata": {
            "tags": []
          },
          "execution_count": 3
        }
      ]
    },
    {
      "cell_type": "markdown",
      "metadata": {
        "id": "m8LIR-8mlscZ"
      },
      "source": [
        "## **#1 Data Cleansing Process**\n",
        "Data cleansing is the first and a very crucial step in the overall data preparation process and is the process of analysing, identifying and correcting messy, raw data. "
      ]
    },
    {
      "cell_type": "code",
      "metadata": {
        "id": "Tvfg3f51txTL",
        "colab": {
          "base_uri": "https://localhost:8080/"
        },
        "outputId": "661b62ad-239b-4d2b-804c-f127e8e3b7ef"
      },
      "source": [
        "#column name of table\n",
        "df.columns"
      ],
      "execution_count": null,
      "outputs": [
        {
          "output_type": "execute_result",
          "data": {
            "text/plain": [
              "Index(['Ship Mode', 'Segment', 'Country', 'City', 'State', 'Postal Code',\n",
              "       'Region', 'Category', 'Sub-Category', 'Sales', 'Quantity', 'Discount',\n",
              "       'Profit'],\n",
              "      dtype='object')"
            ]
          },
          "metadata": {
            "tags": []
          },
          "execution_count": 4
        }
      ]
    },
    {
      "cell_type": "code",
      "metadata": {
        "id": "JWq1XCJzwP14",
        "colab": {
          "base_uri": "https://localhost:8080/"
        },
        "outputId": "dcd6a734-4077-4524-af22-cdb3c673943e"
      },
      "source": [
        "#check data type of attributes\n",
        "df.dtypes"
      ],
      "execution_count": null,
      "outputs": [
        {
          "output_type": "execute_result",
          "data": {
            "text/plain": [
              "Ship Mode        object\n",
              "Segment          object\n",
              "Country          object\n",
              "City             object\n",
              "State            object\n",
              "Postal Code       int64\n",
              "Region           object\n",
              "Category         object\n",
              "Sub-Category     object\n",
              "Sales           float64\n",
              "Quantity          int64\n",
              "Discount        float64\n",
              "Profit          float64\n",
              "dtype: object"
            ]
          },
          "metadata": {
            "tags": []
          },
          "execution_count": 5
        }
      ]
    },
    {
      "cell_type": "markdown",
      "metadata": {
        "id": "ta4bTAg-yx4a"
      },
      "source": [
        "### a. We need to remove unused columns\n",
        "It is always easier to make your decisions from the data which is actually relevant and concise."
      ]
    },
    {
      "cell_type": "code",
      "metadata": {
        "id": "fv3yF0u-yHQN",
        "colab": {
          "base_uri": "https://localhost:8080/"
        },
        "outputId": "1d10f475-cddd-4814-e844-dfa9c3a4d055"
      },
      "source": [
        "#Check the unique attributes in this dataset\n",
        "for i in df.columns:\n",
        "  x = df[i].nunique()\n",
        "  print(i, x)"
      ],
      "execution_count": null,
      "outputs": [
        {
          "output_type": "stream",
          "text": [
            "Ship Mode 4\n",
            "Segment 3\n",
            "Country 1\n",
            "City 531\n",
            "State 49\n",
            "Postal Code 631\n",
            "Region 4\n",
            "Category 3\n",
            "Sub-Category 17\n",
            "Sales 5825\n",
            "Quantity 14\n",
            "Discount 12\n",
            "Profit 7287\n"
          ],
          "name": "stdout"
        }
      ]
    },
    {
      "cell_type": "code",
      "metadata": {
        "id": "KkMyDKQq7rDq",
        "colab": {
          "base_uri": "https://localhost:8080/"
        },
        "outputId": "6a41523a-3170-4714-e33b-70bd90f2a7ac"
      },
      "source": [
        "# check the 'Country' in this datasets\n",
        "df['Country'].unique()"
      ],
      "execution_count": null,
      "outputs": [
        {
          "output_type": "execute_result",
          "data": {
            "text/plain": [
              "array(['United States'], dtype=object)"
            ]
          },
          "metadata": {
            "tags": []
          },
          "execution_count": 7
        }
      ]
    },
    {
      "cell_type": "markdown",
      "metadata": {
        "id": "eKRkntOZzn57"
      },
      "source": [
        "Clearly the data is for US country only, so we can drop the 'Country' column as we dont need any analysis to be done based on it."
      ]
    },
    {
      "cell_type": "code",
      "metadata": {
        "id": "IGfRkVS5ztRT",
        "colab": {
          "base_uri": "https://localhost:8080/",
          "height": 202
        },
        "outputId": "0ef33603-f299-429f-ea7e-af08624b5a72"
      },
      "source": [
        "df = df.drop('Country', axis=1)\n",
        "df.head()"
      ],
      "execution_count": null,
      "outputs": [
        {
          "output_type": "execute_result",
          "data": {
            "text/html": [
              "<div>\n",
              "<style scoped>\n",
              "    .dataframe tbody tr th:only-of-type {\n",
              "        vertical-align: middle;\n",
              "    }\n",
              "\n",
              "    .dataframe tbody tr th {\n",
              "        vertical-align: top;\n",
              "    }\n",
              "\n",
              "    .dataframe thead th {\n",
              "        text-align: right;\n",
              "    }\n",
              "</style>\n",
              "<table border=\"1\" class=\"dataframe\">\n",
              "  <thead>\n",
              "    <tr style=\"text-align: right;\">\n",
              "      <th></th>\n",
              "      <th>Ship Mode</th>\n",
              "      <th>Segment</th>\n",
              "      <th>City</th>\n",
              "      <th>State</th>\n",
              "      <th>Postal Code</th>\n",
              "      <th>Region</th>\n",
              "      <th>Category</th>\n",
              "      <th>Sub-Category</th>\n",
              "      <th>Sales</th>\n",
              "      <th>Quantity</th>\n",
              "      <th>Discount</th>\n",
              "      <th>Profit</th>\n",
              "    </tr>\n",
              "  </thead>\n",
              "  <tbody>\n",
              "    <tr>\n",
              "      <th>0</th>\n",
              "      <td>Second Class</td>\n",
              "      <td>Consumer</td>\n",
              "      <td>Henderson</td>\n",
              "      <td>Kentucky</td>\n",
              "      <td>42420</td>\n",
              "      <td>South</td>\n",
              "      <td>Furniture</td>\n",
              "      <td>Bookcases</td>\n",
              "      <td>261.9600</td>\n",
              "      <td>2</td>\n",
              "      <td>0.00</td>\n",
              "      <td>41.9136</td>\n",
              "    </tr>\n",
              "    <tr>\n",
              "      <th>1</th>\n",
              "      <td>Second Class</td>\n",
              "      <td>Consumer</td>\n",
              "      <td>Henderson</td>\n",
              "      <td>Kentucky</td>\n",
              "      <td>42420</td>\n",
              "      <td>South</td>\n",
              "      <td>Furniture</td>\n",
              "      <td>Chairs</td>\n",
              "      <td>731.9400</td>\n",
              "      <td>3</td>\n",
              "      <td>0.00</td>\n",
              "      <td>219.5820</td>\n",
              "    </tr>\n",
              "    <tr>\n",
              "      <th>2</th>\n",
              "      <td>Second Class</td>\n",
              "      <td>Corporate</td>\n",
              "      <td>Los Angeles</td>\n",
              "      <td>California</td>\n",
              "      <td>90036</td>\n",
              "      <td>West</td>\n",
              "      <td>Office Supplies</td>\n",
              "      <td>Labels</td>\n",
              "      <td>14.6200</td>\n",
              "      <td>2</td>\n",
              "      <td>0.00</td>\n",
              "      <td>6.8714</td>\n",
              "    </tr>\n",
              "    <tr>\n",
              "      <th>3</th>\n",
              "      <td>Standard Class</td>\n",
              "      <td>Consumer</td>\n",
              "      <td>Fort Lauderdale</td>\n",
              "      <td>Florida</td>\n",
              "      <td>33311</td>\n",
              "      <td>South</td>\n",
              "      <td>Furniture</td>\n",
              "      <td>Tables</td>\n",
              "      <td>957.5775</td>\n",
              "      <td>5</td>\n",
              "      <td>0.45</td>\n",
              "      <td>-383.0310</td>\n",
              "    </tr>\n",
              "    <tr>\n",
              "      <th>4</th>\n",
              "      <td>Standard Class</td>\n",
              "      <td>Consumer</td>\n",
              "      <td>Fort Lauderdale</td>\n",
              "      <td>Florida</td>\n",
              "      <td>33311</td>\n",
              "      <td>South</td>\n",
              "      <td>Office Supplies</td>\n",
              "      <td>Storage</td>\n",
              "      <td>22.3680</td>\n",
              "      <td>2</td>\n",
              "      <td>0.20</td>\n",
              "      <td>2.5164</td>\n",
              "    </tr>\n",
              "  </tbody>\n",
              "</table>\n",
              "</div>"
            ],
            "text/plain": [
              "        Ship Mode    Segment             City  ... Quantity  Discount    Profit\n",
              "0    Second Class   Consumer        Henderson  ...        2      0.00   41.9136\n",
              "1    Second Class   Consumer        Henderson  ...        3      0.00  219.5820\n",
              "2    Second Class  Corporate      Los Angeles  ...        2      0.00    6.8714\n",
              "3  Standard Class   Consumer  Fort Lauderdale  ...        5      0.45 -383.0310\n",
              "4  Standard Class   Consumer  Fort Lauderdale  ...        2      0.20    2.5164\n",
              "\n",
              "[5 rows x 12 columns]"
            ]
          },
          "metadata": {
            "tags": []
          },
          "execution_count": 8
        }
      ]
    },
    {
      "cell_type": "markdown",
      "metadata": {
        "id": "cpEkvsJYz-LV"
      },
      "source": [
        "### b. Removing the duplicacy in the rows (if any):"
      ]
    },
    {
      "cell_type": "code",
      "metadata": {
        "id": "FZcwjiXLz9x6",
        "colab": {
          "base_uri": "https://localhost:8080/"
        },
        "outputId": "853e79fe-83de-4b97-cca3-d4a0d38b2102"
      },
      "source": [
        "# dropping the duplicates from datasets\n",
        "print('Before drop duplicates =', df.shape)\n",
        "df = df.drop_duplicates(keep='first')\n",
        "print('After drop duplicates = ', df.shape)"
      ],
      "execution_count": null,
      "outputs": [
        {
          "output_type": "stream",
          "text": [
            "Before drop duplicates = (9994, 12)\n",
            "After drop duplicates =  (9977, 12)\n"
          ],
          "name": "stdout"
        }
      ]
    },
    {
      "cell_type": "markdown",
      "metadata": {
        "id": "Q0-TuQ9B1RBr"
      },
      "source": [
        "Clearly there are 17 duplicates data."
      ]
    },
    {
      "cell_type": "markdown",
      "metadata": {
        "id": "Kq4OEqHU2not"
      },
      "source": [
        "### c. Check the null-value"
      ]
    },
    {
      "cell_type": "code",
      "metadata": {
        "id": "ubJDaFdj27cN",
        "colab": {
          "base_uri": "https://localhost:8080/"
        },
        "outputId": "9e9884b6-af95-488e-a280-16ccc4ffa096"
      },
      "source": [
        "df.info()"
      ],
      "execution_count": null,
      "outputs": [
        {
          "output_type": "stream",
          "text": [
            "<class 'pandas.core.frame.DataFrame'>\n",
            "Int64Index: 9977 entries, 0 to 9993\n",
            "Data columns (total 12 columns):\n",
            " #   Column        Non-Null Count  Dtype  \n",
            "---  ------        --------------  -----  \n",
            " 0   Ship Mode     9977 non-null   object \n",
            " 1   Segment       9977 non-null   object \n",
            " 2   City          9977 non-null   object \n",
            " 3   State         9977 non-null   object \n",
            " 4   Postal Code   9977 non-null   int64  \n",
            " 5   Region        9977 non-null   object \n",
            " 6   Category      9977 non-null   object \n",
            " 7   Sub-Category  9977 non-null   object \n",
            " 8   Sales         9977 non-null   float64\n",
            " 9   Quantity      9977 non-null   int64  \n",
            " 10  Discount      9977 non-null   float64\n",
            " 11  Profit        9977 non-null   float64\n",
            "dtypes: float64(3), int64(2), object(7)\n",
            "memory usage: 1013.3+ KB\n"
          ],
          "name": "stdout"
        }
      ]
    },
    {
      "cell_type": "markdown",
      "metadata": {
        "id": "7wTY_dTq3GuQ"
      },
      "source": [
        "there is no missing data in this dataset. So, after cleansing, this is what the data looks like :"
      ]
    },
    {
      "cell_type": "code",
      "metadata": {
        "id": "mgKlC2a96tKH",
        "colab": {
          "base_uri": "https://localhost:8080/",
          "height": 202
        },
        "outputId": "9b2777a7-31f3-4dba-a1b7-7899c0974e11"
      },
      "source": [
        "df.head()"
      ],
      "execution_count": null,
      "outputs": [
        {
          "output_type": "execute_result",
          "data": {
            "text/html": [
              "<div>\n",
              "<style scoped>\n",
              "    .dataframe tbody tr th:only-of-type {\n",
              "        vertical-align: middle;\n",
              "    }\n",
              "\n",
              "    .dataframe tbody tr th {\n",
              "        vertical-align: top;\n",
              "    }\n",
              "\n",
              "    .dataframe thead th {\n",
              "        text-align: right;\n",
              "    }\n",
              "</style>\n",
              "<table border=\"1\" class=\"dataframe\">\n",
              "  <thead>\n",
              "    <tr style=\"text-align: right;\">\n",
              "      <th></th>\n",
              "      <th>Ship Mode</th>\n",
              "      <th>Segment</th>\n",
              "      <th>City</th>\n",
              "      <th>State</th>\n",
              "      <th>Postal Code</th>\n",
              "      <th>Region</th>\n",
              "      <th>Category</th>\n",
              "      <th>Sub-Category</th>\n",
              "      <th>Sales</th>\n",
              "      <th>Quantity</th>\n",
              "      <th>Discount</th>\n",
              "      <th>Profit</th>\n",
              "    </tr>\n",
              "  </thead>\n",
              "  <tbody>\n",
              "    <tr>\n",
              "      <th>0</th>\n",
              "      <td>Second Class</td>\n",
              "      <td>Consumer</td>\n",
              "      <td>Henderson</td>\n",
              "      <td>Kentucky</td>\n",
              "      <td>42420</td>\n",
              "      <td>South</td>\n",
              "      <td>Furniture</td>\n",
              "      <td>Bookcases</td>\n",
              "      <td>261.9600</td>\n",
              "      <td>2</td>\n",
              "      <td>0.00</td>\n",
              "      <td>41.9136</td>\n",
              "    </tr>\n",
              "    <tr>\n",
              "      <th>1</th>\n",
              "      <td>Second Class</td>\n",
              "      <td>Consumer</td>\n",
              "      <td>Henderson</td>\n",
              "      <td>Kentucky</td>\n",
              "      <td>42420</td>\n",
              "      <td>South</td>\n",
              "      <td>Furniture</td>\n",
              "      <td>Chairs</td>\n",
              "      <td>731.9400</td>\n",
              "      <td>3</td>\n",
              "      <td>0.00</td>\n",
              "      <td>219.5820</td>\n",
              "    </tr>\n",
              "    <tr>\n",
              "      <th>2</th>\n",
              "      <td>Second Class</td>\n",
              "      <td>Corporate</td>\n",
              "      <td>Los Angeles</td>\n",
              "      <td>California</td>\n",
              "      <td>90036</td>\n",
              "      <td>West</td>\n",
              "      <td>Office Supplies</td>\n",
              "      <td>Labels</td>\n",
              "      <td>14.6200</td>\n",
              "      <td>2</td>\n",
              "      <td>0.00</td>\n",
              "      <td>6.8714</td>\n",
              "    </tr>\n",
              "    <tr>\n",
              "      <th>3</th>\n",
              "      <td>Standard Class</td>\n",
              "      <td>Consumer</td>\n",
              "      <td>Fort Lauderdale</td>\n",
              "      <td>Florida</td>\n",
              "      <td>33311</td>\n",
              "      <td>South</td>\n",
              "      <td>Furniture</td>\n",
              "      <td>Tables</td>\n",
              "      <td>957.5775</td>\n",
              "      <td>5</td>\n",
              "      <td>0.45</td>\n",
              "      <td>-383.0310</td>\n",
              "    </tr>\n",
              "    <tr>\n",
              "      <th>4</th>\n",
              "      <td>Standard Class</td>\n",
              "      <td>Consumer</td>\n",
              "      <td>Fort Lauderdale</td>\n",
              "      <td>Florida</td>\n",
              "      <td>33311</td>\n",
              "      <td>South</td>\n",
              "      <td>Office Supplies</td>\n",
              "      <td>Storage</td>\n",
              "      <td>22.3680</td>\n",
              "      <td>2</td>\n",
              "      <td>0.20</td>\n",
              "      <td>2.5164</td>\n",
              "    </tr>\n",
              "  </tbody>\n",
              "</table>\n",
              "</div>"
            ],
            "text/plain": [
              "        Ship Mode    Segment             City  ... Quantity  Discount    Profit\n",
              "0    Second Class   Consumer        Henderson  ...        2      0.00   41.9136\n",
              "1    Second Class   Consumer        Henderson  ...        3      0.00  219.5820\n",
              "2    Second Class  Corporate      Los Angeles  ...        2      0.00    6.8714\n",
              "3  Standard Class   Consumer  Fort Lauderdale  ...        5      0.45 -383.0310\n",
              "4  Standard Class   Consumer  Fort Lauderdale  ...        2      0.20    2.5164\n",
              "\n",
              "[5 rows x 12 columns]"
            ]
          },
          "metadata": {
            "tags": []
          },
          "execution_count": 11
        }
      ]
    },
    {
      "cell_type": "markdown",
      "metadata": {
        "id": "nvNkTBOoIMLk"
      },
      "source": [
        "## **#2 Identifying relationships between variables / features**\n",
        "The main goal here is to identify and create relationships which can help you to build a hypothesis. We can analyse the data further in 2 different ways.\n",
        "\n",
        "*   Product Level Analysis\n",
        "*   Costumer Level Analysis\n",
        "\n",
        "We’ll have to define questions which can help us build some relationships to look at. At this point, I came up with the following questions when I studied this dataset."
      ]
    },
    {
      "cell_type": "markdown",
      "metadata": {
        "id": "NSQ7hNgFIG0G"
      },
      "source": [
        "### a. Which categories give the bigest profit? "
      ]
    },
    {
      "cell_type": "code",
      "metadata": {
        "id": "OcExVFcMgxJG",
        "colab": {
          "base_uri": "https://localhost:8080/",
          "height": 171
        },
        "outputId": "c0f5f44f-4991-434b-b164-36abc034cb44"
      },
      "source": [
        "profit_per_category = df.groupby('Category')['Profit'].agg('sum')\n",
        "pd.DataFrame(profit_per_category)"
      ],
      "execution_count": null,
      "outputs": [
        {
          "output_type": "execute_result",
          "data": {
            "text/html": [
              "<div>\n",
              "<style scoped>\n",
              "    .dataframe tbody tr th:only-of-type {\n",
              "        vertical-align: middle;\n",
              "    }\n",
              "\n",
              "    .dataframe tbody tr th {\n",
              "        vertical-align: top;\n",
              "    }\n",
              "\n",
              "    .dataframe thead th {\n",
              "        text-align: right;\n",
              "    }\n",
              "</style>\n",
              "<table border=\"1\" class=\"dataframe\">\n",
              "  <thead>\n",
              "    <tr style=\"text-align: right;\">\n",
              "      <th></th>\n",
              "      <th>Profit</th>\n",
              "    </tr>\n",
              "    <tr>\n",
              "      <th>Category</th>\n",
              "      <th></th>\n",
              "    </tr>\n",
              "  </thead>\n",
              "  <tbody>\n",
              "    <tr>\n",
              "      <th>Furniture</th>\n",
              "      <td>18421.8137</td>\n",
              "    </tr>\n",
              "    <tr>\n",
              "      <th>Office Supplies</th>\n",
              "      <td>122364.6608</td>\n",
              "    </tr>\n",
              "    <tr>\n",
              "      <th>Technology</th>\n",
              "      <td>145454.9481</td>\n",
              "    </tr>\n",
              "  </tbody>\n",
              "</table>\n",
              "</div>"
            ],
            "text/plain": [
              "                      Profit\n",
              "Category                    \n",
              "Furniture         18421.8137\n",
              "Office Supplies  122364.6608\n",
              "Technology       145454.9481"
            ]
          },
          "metadata": {
            "tags": []
          },
          "execution_count": 37
        }
      ]
    },
    {
      "cell_type": "code",
      "metadata": {
        "id": "hUBvB68qcYGN",
        "colab": {
          "base_uri": "https://localhost:8080/",
          "height": 360
        },
        "outputId": "b7e51502-6d29-4ea3-aab7-ca2735ec71aa"
      },
      "source": [
        "profit_per_category.plot.bar(\n",
        "    width=0.9,\n",
        "    color=sns.color_palette('summer_r',3)\n",
        ")\n",
        "plt.title('Total Profit per Category')\n",
        "plt.xlabel('Profit')\n",
        "plt.show()"
      ],
      "execution_count": null,
      "outputs": [
        {
          "output_type": "display_data",
          "data": {
            "image/png": "[encoded data removed]",
            "text/plain": [
              "<Figure size 432x288 with 1 Axes>"
            ]
          },
          "metadata": {
            "tags": [],
            "needs_background": "light"
          }
        }
      ]
    },
    {
      "cell_type": "markdown",
      "metadata": {
        "id": "n2XHfwkNhwg9"
      },
      "source": [
        "The highest profit is obtained by Technology. The second place is the office supplies with a difference of about 2000, while the last order is furniture with a significant difference from the profits obtained by the office supplies and technology category."
      ]
    },
    {
      "cell_type": "markdown",
      "metadata": {
        "id": "WeEjRBpKLxgQ"
      },
      "source": [
        "### b. Which 5 sub-categories product are most bought? "
      ]
    },
    {
      "cell_type": "code",
      "metadata": {
        "id": "pHxiDTl3j0I4",
        "colab": {
          "base_uri": "https://localhost:8080/",
          "height": 283
        },
        "outputId": "fe6388b8-ebb3-4899-c3a4-aadbd46f4b4a"
      },
      "source": [
        "df[['Quantity']].plot.box()"
      ],
      "execution_count": null,
      "outputs": [
        {
          "output_type": "execute_result",
          "data": {
            "text/plain": [
              "<matplotlib.axes._subplots.AxesSubplot at 0x7f51effb7b70>"
            ]
          },
          "metadata": {
            "tags": []
          },
          "execution_count": 296
        },
        {
          "output_type": "display_data",
          "data": {
            "image/png": "[encoded data removed]",
            "text/plain": [
              "<Figure size 432x288 with 1 Axes>"
            ]
          },
          "metadata": {
            "tags": [],
            "needs_background": "light"
          }
        }
      ]
    },
    {
      "cell_type": "code",
      "metadata": {
        "id": "c9B-SVHXpbCO",
        "colab": {
          "base_uri": "https://localhost:8080/",
          "height": 233
        },
        "outputId": "e586c3f4-f3f5-4f85-fff2-ed0d552f7012"
      },
      "source": [
        "quantity_per_subcategory = df.groupby('Sub-Category')['Quantity'].sum().sort_values(ascending=False)\n",
        "pd.DataFrame(quantity_per_subcategory).head(5)"
      ],
      "execution_count": null,
      "outputs": [
        {
          "output_type": "execute_result",
          "data": {
            "text/html": [
              "<div>\n",
              "<style scoped>\n",
              "    .dataframe tbody tr th:only-of-type {\n",
              "        vertical-align: middle;\n",
              "    }\n",
              "\n",
              "    .dataframe tbody tr th {\n",
              "        vertical-align: top;\n",
              "    }\n",
              "\n",
              "    .dataframe thead th {\n",
              "        text-align: right;\n",
              "    }\n",
              "</style>\n",
              "<table border=\"1\" class=\"dataframe\">\n",
              "  <thead>\n",
              "    <tr style=\"text-align: right;\">\n",
              "      <th></th>\n",
              "      <th>Quantity</th>\n",
              "    </tr>\n",
              "    <tr>\n",
              "      <th>Sub-Category</th>\n",
              "      <th></th>\n",
              "    </tr>\n",
              "  </thead>\n",
              "  <tbody>\n",
              "    <tr>\n",
              "      <th>Binders</th>\n",
              "      <td>5971</td>\n",
              "    </tr>\n",
              "    <tr>\n",
              "      <th>Paper</th>\n",
              "      <td>5144</td>\n",
              "    </tr>\n",
              "    <tr>\n",
              "      <th>Furnishings</th>\n",
              "      <td>3560</td>\n",
              "    </tr>\n",
              "    <tr>\n",
              "      <th>Phones</th>\n",
              "      <td>3289</td>\n",
              "    </tr>\n",
              "    <tr>\n",
              "      <th>Storage</th>\n",
              "      <td>3158</td>\n",
              "    </tr>\n",
              "  </tbody>\n",
              "</table>\n",
              "</div>"
            ],
            "text/plain": [
              "              Quantity\n",
              "Sub-Category          \n",
              "Binders           5971\n",
              "Paper             5144\n",
              "Furnishings       3560\n",
              "Phones            3289\n",
              "Storage           3158"
            ]
          },
          "metadata": {
            "tags": []
          },
          "execution_count": 288
        }
      ]
    },
    {
      "cell_type": "code",
      "metadata": {
        "id": "cYWeHSLVyzkm",
        "colab": {
          "base_uri": "https://localhost:8080/",
          "height": 295
        },
        "outputId": "03a92586-586a-4bae-d1c0-b187a0ec14a7"
      },
      "source": [
        "quantity_per_subcategory.head(10).sort_values(ascending=True).plot.barh(\n",
        "    width=0.9,\n",
        "    color=sns.color_palette('flare',10)\n",
        ")\n",
        "plt.title('Total Quantity Sold per Sub-Category')\n",
        "plt.xlabel('Quantity')\n",
        "plt.show()"
      ],
      "execution_count": null,
      "outputs": [
        {
          "output_type": "display_data",
          "data": {
            "image/png": "[encoded data removed]",
            "text/plain": [
              "<Figure size 432x288 with 1 Axes>"
            ]
          },
          "metadata": {
            "tags": [],
            "needs_background": "light"
          }
        }
      ]
    },
    {
      "cell_type": "markdown",
      "metadata": {
        "id": "3JJzgvZi2GaK"
      },
      "source": [
        "The sub-category of products that sold the most was Binders, Paper, Furnishings, Phones, and Storage."
      ]
    },
    {
      "cell_type": "markdown",
      "metadata": {
        "id": "agV6aYOW9p9o"
      },
      "source": [
        "### c. Does the discount affect the quantity purchased or the profit earned?"
      ]
    },
    {
      "cell_type": "code",
      "metadata": {
        "id": "bvLjk8F1-WuE",
        "colab": {
          "base_uri": "https://localhost:8080/",
          "height": 101
        },
        "outputId": "1d0453d0-108d-4298-916e-68e6182d6ae3"
      },
      "source": [
        "corr = df[['Quantity','Discount', 'Profit']].corr()\n",
        "corr.style.background_gradient(cmap='coolwarm').set_precision(2)"
      ],
      "execution_count": null,
      "outputs": [
        {
          "output_type": "execute_result",
          "data": {
            "text/html": [
              "<style  type=\"text/css\" >\n",
              "#T_d987f3e6_2354_11eb_8868_0242ac1c0002row0_col0,#T_d987f3e6_2354_11eb_8868_0242ac1c0002row1_col1,#T_d987f3e6_2354_11eb_8868_0242ac1c0002row2_col2{\n",
              "            background-color:  #b40426;\n",
              "            color:  #f1f1f1;\n",
              "        }#T_d987f3e6_2354_11eb_8868_0242ac1c0002row0_col1{\n",
              "            background-color:  #7699f6;\n",
              "            color:  #000000;\n",
              "        }#T_d987f3e6_2354_11eb_8868_0242ac1c0002row0_col2{\n",
              "            background-color:  #88abfd;\n",
              "            color:  #000000;\n",
              "        }#T_d987f3e6_2354_11eb_8868_0242ac1c0002row1_col0,#T_d987f3e6_2354_11eb_8868_0242ac1c0002row1_col2,#T_d987f3e6_2354_11eb_8868_0242ac1c0002row2_col1{\n",
              "            background-color:  #3b4cc0;\n",
              "            color:  #f1f1f1;\n",
              "        }#T_d987f3e6_2354_11eb_8868_0242ac1c0002row2_col0{\n",
              "            background-color:  #4b64d5;\n",
              "            color:  #f1f1f1;\n",
              "        }</style><table id=\"T_d987f3e6_2354_11eb_8868_0242ac1c0002\" ><thead>    <tr>        <th class=\"blank level0\" ></th>        <th class=\"col_heading level0 col0\" >Quantity</th>        <th class=\"col_heading level0 col1\" >Discount</th>        <th class=\"col_heading level0 col2\" >Profit</th>    </tr></thead><tbody>\n",
              "                <tr>\n",
              "                        <th id=\"T_d987f3e6_2354_11eb_8868_0242ac1c0002level0_row0\" class=\"row_heading level0 row0\" >Quantity</th>\n",
              "                        <td id=\"T_d987f3e6_2354_11eb_8868_0242ac1c0002row0_col0\" class=\"data row0 col0\" >1.00</td>\n",
              "                        <td id=\"T_d987f3e6_2354_11eb_8868_0242ac1c0002row0_col1\" class=\"data row0 col1\" >0.01</td>\n",
              "                        <td id=\"T_d987f3e6_2354_11eb_8868_0242ac1c0002row0_col2\" class=\"data row0 col2\" >0.07</td>\n",
              "            </tr>\n",
              "            <tr>\n",
              "                        <th id=\"T_d987f3e6_2354_11eb_8868_0242ac1c0002level0_row1\" class=\"row_heading level0 row1\" >Discount</th>\n",
              "                        <td id=\"T_d987f3e6_2354_11eb_8868_0242ac1c0002row1_col0\" class=\"data row1 col0\" >0.01</td>\n",
              "                        <td id=\"T_d987f3e6_2354_11eb_8868_0242ac1c0002row1_col1\" class=\"data row1 col1\" >1.00</td>\n",
              "                        <td id=\"T_d987f3e6_2354_11eb_8868_0242ac1c0002row1_col2\" class=\"data row1 col2\" >-0.22</td>\n",
              "            </tr>\n",
              "            <tr>\n",
              "                        <th id=\"T_d987f3e6_2354_11eb_8868_0242ac1c0002level0_row2\" class=\"row_heading level0 row2\" >Profit</th>\n",
              "                        <td id=\"T_d987f3e6_2354_11eb_8868_0242ac1c0002row2_col0\" class=\"data row2 col0\" >0.07</td>\n",
              "                        <td id=\"T_d987f3e6_2354_11eb_8868_0242ac1c0002row2_col1\" class=\"data row2 col1\" >-0.22</td>\n",
              "                        <td id=\"T_d987f3e6_2354_11eb_8868_0242ac1c0002row2_col2\" class=\"data row2 col2\" >1.00</td>\n",
              "            </tr>\n",
              "    </tbody></table>"
            ],
            "text/plain": [
              "<pandas.io.formats.style.Styler at 0x7f51f043bbe0>"
            ]
          },
          "metadata": {
            "tags": []
          },
          "execution_count": 246
        }
      ]
    },
    {
      "cell_type": "markdown",
      "metadata": {
        "id": "EZK662M5A74L"
      },
      "source": [
        "When viewed from the correlation table, discounts have no effect on the number of product purchases, while in this case discounts do not really have an effect on profits. So, let's check the profit more detail."
      ]
    },
    {
      "cell_type": "code",
      "metadata": {
        "id": "TNirU4q9EwCx",
        "colab": {
          "base_uri": "https://localhost:8080/",
          "height": 295
        },
        "outputId": "a49a0400-59b5-4cda-a42d-70f258461aca"
      },
      "source": [
        "df[['Discount','Profit']].describe()"
      ],
      "execution_count": null,
      "outputs": [
        {
          "output_type": "execute_result",
          "data": {
            "text/html": [
              "<div>\n",
              "<style scoped>\n",
              "    .dataframe tbody tr th:only-of-type {\n",
              "        vertical-align: middle;\n",
              "    }\n",
              "\n",
              "    .dataframe tbody tr th {\n",
              "        vertical-align: top;\n",
              "    }\n",
              "\n",
              "    .dataframe thead th {\n",
              "        text-align: right;\n",
              "    }\n",
              "</style>\n",
              "<table border=\"1\" class=\"dataframe\">\n",
              "  <thead>\n",
              "    <tr style=\"text-align: right;\">\n",
              "      <th></th>\n",
              "      <th>Discount</th>\n",
              "      <th>Profit</th>\n",
              "    </tr>\n",
              "  </thead>\n",
              "  <tbody>\n",
              "    <tr>\n",
              "      <th>count</th>\n",
              "      <td>9977.000000</td>\n",
              "      <td>9977.00000</td>\n",
              "    </tr>\n",
              "    <tr>\n",
              "      <th>mean</th>\n",
              "      <td>0.156278</td>\n",
              "      <td>28.69013</td>\n",
              "    </tr>\n",
              "    <tr>\n",
              "      <th>std</th>\n",
              "      <td>0.206455</td>\n",
              "      <td>234.45784</td>\n",
              "    </tr>\n",
              "    <tr>\n",
              "      <th>min</th>\n",
              "      <td>0.000000</td>\n",
              "      <td>-6599.97800</td>\n",
              "    </tr>\n",
              "    <tr>\n",
              "      <th>25%</th>\n",
              "      <td>0.000000</td>\n",
              "      <td>1.72620</td>\n",
              "    </tr>\n",
              "    <tr>\n",
              "      <th>50%</th>\n",
              "      <td>0.200000</td>\n",
              "      <td>8.67100</td>\n",
              "    </tr>\n",
              "    <tr>\n",
              "      <th>75%</th>\n",
              "      <td>0.200000</td>\n",
              "      <td>29.37200</td>\n",
              "    </tr>\n",
              "    <tr>\n",
              "      <th>max</th>\n",
              "      <td>0.800000</td>\n",
              "      <td>8399.97600</td>\n",
              "    </tr>\n",
              "  </tbody>\n",
              "</table>\n",
              "</div>"
            ],
            "text/plain": [
              "          Discount      Profit\n",
              "count  9977.000000  9977.00000\n",
              "mean      0.156278    28.69013\n",
              "std       0.206455   234.45784\n",
              "min       0.000000 -6599.97800\n",
              "25%       0.000000     1.72620\n",
              "50%       0.200000     8.67100\n",
              "75%       0.200000    29.37200\n",
              "max       0.800000  8399.97600"
            ]
          },
          "metadata": {
            "tags": []
          },
          "execution_count": 247
        }
      ]
    },
    {
      "cell_type": "markdown",
      "metadata": {
        "id": "dV1C-8XDFdJS"
      },
      "source": [
        "As mentioned in the description dataset, some profit is negative. So, let's look what produk give a loss. "
      ]
    },
    {
      "cell_type": "code",
      "metadata": {
        "id": "NbN5GrTrF6r9",
        "colab": {
          "base_uri": "https://localhost:8080/",
          "height": 566
        },
        "outputId": "8a4d029d-6026-4f00-863f-0b8ad1a86db0"
      },
      "source": [
        "#get negative profit\n",
        "negative_profit = df[df['Profit']<0]\n",
        "negative_profit.sort_values(by='Profit', ascending=True).head(10)"
      ],
      "execution_count": null,
      "outputs": [
        {
          "output_type": "execute_result",
          "data": {
            "text/html": [
              "<div>\n",
              "<style scoped>\n",
              "    .dataframe tbody tr th:only-of-type {\n",
              "        vertical-align: middle;\n",
              "    }\n",
              "\n",
              "    .dataframe tbody tr th {\n",
              "        vertical-align: top;\n",
              "    }\n",
              "\n",
              "    .dataframe thead th {\n",
              "        text-align: right;\n",
              "    }\n",
              "</style>\n",
              "<table border=\"1\" class=\"dataframe\">\n",
              "  <thead>\n",
              "    <tr style=\"text-align: right;\">\n",
              "      <th></th>\n",
              "      <th>Ship Mode</th>\n",
              "      <th>Segment</th>\n",
              "      <th>City</th>\n",
              "      <th>State</th>\n",
              "      <th>Postal Code</th>\n",
              "      <th>Region</th>\n",
              "      <th>Category</th>\n",
              "      <th>Sub-Category</th>\n",
              "      <th>Sales</th>\n",
              "      <th>Quantity</th>\n",
              "      <th>Discount</th>\n",
              "      <th>Profit</th>\n",
              "    </tr>\n",
              "  </thead>\n",
              "  <tbody>\n",
              "    <tr>\n",
              "      <th>7772</th>\n",
              "      <td>Standard Class</td>\n",
              "      <td>Consumer</td>\n",
              "      <td>Lancaster</td>\n",
              "      <td>Ohio</td>\n",
              "      <td>43130</td>\n",
              "      <td>East</td>\n",
              "      <td>Technology</td>\n",
              "      <td>Machines</td>\n",
              "      <td>4499.985</td>\n",
              "      <td>5</td>\n",
              "      <td>0.7</td>\n",
              "      <td>-6599.9780</td>\n",
              "    </tr>\n",
              "    <tr>\n",
              "      <th>683</th>\n",
              "      <td>Same Day</td>\n",
              "      <td>Corporate</td>\n",
              "      <td>Burlington</td>\n",
              "      <td>North Carolina</td>\n",
              "      <td>27217</td>\n",
              "      <td>South</td>\n",
              "      <td>Technology</td>\n",
              "      <td>Machines</td>\n",
              "      <td>7999.980</td>\n",
              "      <td>4</td>\n",
              "      <td>0.5</td>\n",
              "      <td>-3839.9904</td>\n",
              "    </tr>\n",
              "    <tr>\n",
              "      <th>9774</th>\n",
              "      <td>Standard Class</td>\n",
              "      <td>Consumer</td>\n",
              "      <td>San Antonio</td>\n",
              "      <td>Texas</td>\n",
              "      <td>78207</td>\n",
              "      <td>Central</td>\n",
              "      <td>Office Supplies</td>\n",
              "      <td>Binders</td>\n",
              "      <td>2177.584</td>\n",
              "      <td>8</td>\n",
              "      <td>0.8</td>\n",
              "      <td>-3701.8928</td>\n",
              "    </tr>\n",
              "    <tr>\n",
              "      <th>3011</th>\n",
              "      <td>Standard Class</td>\n",
              "      <td>Home Office</td>\n",
              "      <td>Louisville</td>\n",
              "      <td>Colorado</td>\n",
              "      <td>80027</td>\n",
              "      <td>West</td>\n",
              "      <td>Technology</td>\n",
              "      <td>Machines</td>\n",
              "      <td>2549.985</td>\n",
              "      <td>5</td>\n",
              "      <td>0.7</td>\n",
              "      <td>-3399.9800</td>\n",
              "    </tr>\n",
              "    <tr>\n",
              "      <th>4991</th>\n",
              "      <td>Standard Class</td>\n",
              "      <td>Corporate</td>\n",
              "      <td>Chicago</td>\n",
              "      <td>Illinois</td>\n",
              "      <td>60653</td>\n",
              "      <td>Central</td>\n",
              "      <td>Office Supplies</td>\n",
              "      <td>Binders</td>\n",
              "      <td>1889.990</td>\n",
              "      <td>5</td>\n",
              "      <td>0.8</td>\n",
              "      <td>-2929.4845</td>\n",
              "    </tr>\n",
              "    <tr>\n",
              "      <th>3151</th>\n",
              "      <td>First Class</td>\n",
              "      <td>Consumer</td>\n",
              "      <td>Newark</td>\n",
              "      <td>Ohio</td>\n",
              "      <td>43055</td>\n",
              "      <td>East</td>\n",
              "      <td>Technology</td>\n",
              "      <td>Machines</td>\n",
              "      <td>1799.994</td>\n",
              "      <td>2</td>\n",
              "      <td>0.7</td>\n",
              "      <td>-2639.9912</td>\n",
              "    </tr>\n",
              "    <tr>\n",
              "      <th>5310</th>\n",
              "      <td>First Class</td>\n",
              "      <td>Consumer</td>\n",
              "      <td>Houston</td>\n",
              "      <td>Texas</td>\n",
              "      <td>77095</td>\n",
              "      <td>Central</td>\n",
              "      <td>Office Supplies</td>\n",
              "      <td>Binders</td>\n",
              "      <td>1525.188</td>\n",
              "      <td>6</td>\n",
              "      <td>0.8</td>\n",
              "      <td>-2287.7820</td>\n",
              "    </tr>\n",
              "    <tr>\n",
              "      <th>9639</th>\n",
              "      <td>Second Class</td>\n",
              "      <td>Consumer</td>\n",
              "      <td>Concord</td>\n",
              "      <td>North Carolina</td>\n",
              "      <td>28027</td>\n",
              "      <td>South</td>\n",
              "      <td>Furniture</td>\n",
              "      <td>Tables</td>\n",
              "      <td>4297.644</td>\n",
              "      <td>13</td>\n",
              "      <td>0.4</td>\n",
              "      <td>-1862.3124</td>\n",
              "    </tr>\n",
              "    <tr>\n",
              "      <th>1199</th>\n",
              "      <td>Standard Class</td>\n",
              "      <td>Consumer</td>\n",
              "      <td>Houston</td>\n",
              "      <td>Texas</td>\n",
              "      <td>77041</td>\n",
              "      <td>Central</td>\n",
              "      <td>Office Supplies</td>\n",
              "      <td>Binders</td>\n",
              "      <td>1088.792</td>\n",
              "      <td>4</td>\n",
              "      <td>0.8</td>\n",
              "      <td>-1850.9464</td>\n",
              "    </tr>\n",
              "    <tr>\n",
              "      <th>2697</th>\n",
              "      <td>Standard Class</td>\n",
              "      <td>Home Office</td>\n",
              "      <td>Jacksonville</td>\n",
              "      <td>Florida</td>\n",
              "      <td>32216</td>\n",
              "      <td>South</td>\n",
              "      <td>Technology</td>\n",
              "      <td>Machines</td>\n",
              "      <td>22638.480</td>\n",
              "      <td>6</td>\n",
              "      <td>0.5</td>\n",
              "      <td>-1811.0784</td>\n",
              "    </tr>\n",
              "  </tbody>\n",
              "</table>\n",
              "</div>"
            ],
            "text/plain": [
              "           Ship Mode      Segment          City  ... Quantity  Discount     Profit\n",
              "7772  Standard Class     Consumer     Lancaster  ...        5       0.7 -6599.9780\n",
              "683         Same Day    Corporate    Burlington  ...        4       0.5 -3839.9904\n",
              "9774  Standard Class     Consumer   San Antonio  ...        8       0.8 -3701.8928\n",
              "3011  Standard Class  Home Office    Louisville  ...        5       0.7 -3399.9800\n",
              "4991  Standard Class    Corporate       Chicago  ...        5       0.8 -2929.4845\n",
              "3151     First Class     Consumer        Newark  ...        2       0.7 -2639.9912\n",
              "5310     First Class     Consumer       Houston  ...        6       0.8 -2287.7820\n",
              "9639    Second Class     Consumer       Concord  ...       13       0.4 -1862.3124\n",
              "1199  Standard Class     Consumer       Houston  ...        4       0.8 -1850.9464\n",
              "2697  Standard Class  Home Office  Jacksonville  ...        6       0.5 -1811.0784\n",
              "\n",
              "[10 rows x 12 columns]"
            ]
          },
          "metadata": {
            "tags": []
          },
          "execution_count": 248
        }
      ]
    },
    {
      "cell_type": "code",
      "metadata": {
        "id": "7X4cX3FOJtk_",
        "colab": {
          "base_uri": "https://localhost:8080/"
        },
        "outputId": "b34b52c9-7a92-4382-fea9-ea65bd3435f0"
      },
      "source": [
        "negative_profit['Profit'].sum()"
      ],
      "execution_count": null,
      "outputs": [
        {
          "output_type": "execute_result",
          "data": {
            "text/plain": [
              "-156112.98990000002"
            ]
          },
          "metadata": {
            "tags": []
          },
          "execution_count": 249
        }
      ]
    },
    {
      "cell_type": "code",
      "metadata": {
        "id": "_qaRi71m9XZR",
        "colab": {
          "base_uri": "https://localhost:8080/",
          "height": 172
        },
        "outputId": "5cc72494-fe24-456f-9fb9-06647b12f38a"
      },
      "source": [
        "loss_per_category = negative_profit.groupby('Category')['Profit'].agg('sum')\n",
        "pd.DataFrame(loss_per_category)"
      ],
      "execution_count": null,
      "outputs": [
        {
          "output_type": "execute_result",
          "data": {
            "text/html": [
              "<div>\n",
              "<style scoped>\n",
              "    .dataframe tbody tr th:only-of-type {\n",
              "        vertical-align: middle;\n",
              "    }\n",
              "\n",
              "    .dataframe tbody tr th {\n",
              "        vertical-align: top;\n",
              "    }\n",
              "\n",
              "    .dataframe thead th {\n",
              "        text-align: right;\n",
              "    }\n",
              "</style>\n",
              "<table border=\"1\" class=\"dataframe\">\n",
              "  <thead>\n",
              "    <tr style=\"text-align: right;\">\n",
              "      <th></th>\n",
              "      <th>Profit</th>\n",
              "    </tr>\n",
              "    <tr>\n",
              "      <th>Category</th>\n",
              "      <th></th>\n",
              "    </tr>\n",
              "  </thead>\n",
              "  <tbody>\n",
              "    <tr>\n",
              "      <th>Furniture</th>\n",
              "      <td>-60924.0502</td>\n",
              "    </tr>\n",
              "    <tr>\n",
              "      <th>Office Supplies</th>\n",
              "      <td>-56609.0215</td>\n",
              "    </tr>\n",
              "    <tr>\n",
              "      <th>Technology</th>\n",
              "      <td>-38579.9182</td>\n",
              "    </tr>\n",
              "  </tbody>\n",
              "</table>\n",
              "</div>"
            ],
            "text/plain": [
              "                     Profit\n",
              "Category                   \n",
              "Furniture       -60924.0502\n",
              "Office Supplies -56609.0215\n",
              "Technology      -38579.9182"
            ]
          },
          "metadata": {
            "tags": []
          },
          "execution_count": 250
        }
      ]
    },
    {
      "cell_type": "code",
      "metadata": {
        "id": "yzzb3I70KzwF",
        "colab": {
          "base_uri": "https://localhost:8080/",
          "height": 494
        },
        "outputId": "c72b7db2-72a9-445d-d4d3-9e71aa7ccd9a"
      },
      "source": [
        "loss_per_category = pd.DataFrame(negative_profit.groupby('Category')['Profit'].agg('sum'))\n",
        "plt.figure(figsize=(8,9))\n",
        "np.absolute(loss_per_category['Profit']).plot.pie(autopct=\"%1.1f%%\")"
      ],
      "execution_count": null,
      "outputs": [
        {
          "output_type": "execute_result",
          "data": {
            "text/plain": [
              "<matplotlib.axes._subplots.AxesSubplot at 0x7f51efd4ce48>"
            ]
          },
          "metadata": {
            "tags": []
          },
          "execution_count": 251
        },
        {
          "output_type": "display_data",
          "data": {
            "image/png": "[encoded data removed]",
            "text/plain": [
              "<Figure size 576x648 with 1 Axes>"
            ]
          },
          "metadata": {
            "tags": []
          }
        }
      ]
    },
    {
      "cell_type": "code",
      "metadata": {
        "id": "8x0MDifNLtOK",
        "colab": {
          "base_uri": "https://localhost:8080/",
          "height": 295
        },
        "outputId": "0a155f7f-bbb1-44b8-cdaa-e3c7babe3e46"
      },
      "source": [
        "loss_per_subcategory = negative_profit.groupby('Sub-Category')['Profit'].agg('sum')\n",
        "pd.DataFrame(loss_per_subcategory)\n",
        "loss_per_subcategory.head(10).sort_values(ascending=False).plot.barh(\n",
        "    width=0.9,\n",
        "    color=sns.color_palette('CMRmap_r',10)\n",
        ")\n",
        "plt.title('Total loss per Sub-Category')\n",
        "plt.xlabel('loss')\n",
        "plt.show()"
      ],
      "execution_count": null,
      "outputs": [
        {
          "output_type": "display_data",
          "data": {
            "image/png": "[encoded data removed]",
            "text/plain": [
              "<Figure size 432x288 with 1 Axes>"
            ]
          },
          "metadata": {
            "tags": [],
            "needs_background": "light"
          }
        }
      ]
    },
    {
      "cell_type": "markdown",
      "metadata": {
        "id": "BdeC0KhrMe-H"
      },
      "source": [
        "The total loss obtained was 156112.98 with the largest contributor to the loss was furniture, which was 39% of the total loss. Meanwhile, the product that contributed the largest loss was binders with a loss of nearly 40000."
      ]
    },
    {
      "cell_type": "markdown",
      "metadata": {
        "id": "wbBCweVDcKPs"
      },
      "source": [
        "### d. Which consumer segment spend the most money?\n"
      ]
    },
    {
      "cell_type": "code",
      "metadata": {
        "id": "lgljWHJCP7s1",
        "colab": {
          "base_uri": "https://localhost:8080/",
          "height": 494
        },
        "outputId": "3e758bb7-a514-44f0-c63f-96a7a91c47e1"
      },
      "source": [
        "sales_per_segment = pd.DataFrame(df[['Segment', 'Sales']].groupby('Segment')['Sales'].agg('sum'))\n",
        "plt.figure(figsize=(8,9))\n",
        "sales_per_segment['Sales'].plot.pie(autopct=\"%1.1f%%\")"
      ],
      "execution_count": null,
      "outputs": [
        {
          "output_type": "execute_result",
          "data": {
            "text/plain": [
              "<matplotlib.axes._subplots.AxesSubplot at 0x7f51efb95438>"
            ]
          },
          "metadata": {
            "tags": []
          },
          "execution_count": 258
        },
        {
          "output_type": "display_data",
          "data": {
            "image/png": "[encoded data removed]",
            "text/plain": [
              "<Figure size 576x648 with 1 Axes>"
            ]
          },
          "metadata": {
            "tags": []
          }
        }
      ]
    },
    {
      "cell_type": "markdown",
      "metadata": {
        "id": "hzspGz1InguL"
      },
      "source": [
        "'consumer' segment spend the most on their purchases. Which was more than 50% from total sales."
      ]
    },
    {
      "cell_type": "markdown",
      "metadata": {
        "id": "LDffzk8PcNPU"
      },
      "source": [
        "### e. Which 5 states order the most?"
      ]
    },
    {
      "cell_type": "code",
      "metadata": {
        "id": "gfBCY5_aSelL",
        "colab": {
          "base_uri": "https://localhost:8080/"
        },
        "outputId": "d7afa9b7-b9aa-4e35-9ded-9675dd24d943"
      },
      "source": [
        "state= df[['State']].value_counts()\n",
        "state.head()"
      ],
      "execution_count": null,
      "outputs": [
        {
          "output_type": "execute_result",
          "data": {
            "text/plain": [
              "State       \n",
              "California      1996\n",
              "New York        1127\n",
              "Texas            983\n",
              "Pennsylvania     586\n",
              "Washington       502\n",
              "dtype: int64"
            ]
          },
          "metadata": {
            "tags": []
          },
          "execution_count": 282
        }
      ]
    },
    {
      "cell_type": "markdown",
      "metadata": {
        "id": "Otix-f7opgA-"
      },
      "source": [
        "Customer from California the most frequently order. The next state are New York, Texas, Pennsylvania, and Washington.  "
      ]
    },
    {
      "cell_type": "markdown",
      "metadata": {
        "id": "FGyiuSH7cQdL"
      },
      "source": [
        "### f. Which region gives the most profit?"
      ]
    },
    {
      "cell_type": "code",
      "metadata": {
        "id": "mnDkqa2Vg0Xz",
        "colab": {
          "base_uri": "https://localhost:8080/",
          "height": 322
        },
        "outputId": "7eab79d1-2049-4948-96aa-aefbea5ce7e4"
      },
      "source": [
        "profit_per_region = df.groupby('Region')['Profit'].agg('sum')\n",
        "pd.DataFrame(profit_per_region)\n",
        "profit_per_region.head(10).sort_values(ascending=False).plot.bar(\n",
        "    width=0.9,\n",
        "    color=sns.color_palette('autumn_r',10)\n",
        ")\n",
        "plt.title('Total profit per Region')\n",
        "plt.xlabel('Profit')\n",
        "plt.show()"
      ],
      "execution_count": null,
      "outputs": [
        {
          "output_type": "display_data",
          "data": {
            "image/png": "[encoded data removed]",
            "text/plain": [
              "<Figure size 432x288 with 1 Axes>"
            ]
          },
          "metadata": {
            "tags": [],
            "needs_background": "light"
          }
        }
      ]
    },
    {
      "cell_type": "markdown",
      "metadata": {
        "id": "SmrV79ZJoO5b"
      },
      "source": [
        "Customer from west US region gives the most profit from product they bought. "
      ]
    },
    {
      "cell_type": "markdown",
      "metadata": {
        "id": "maU1PaAdiPvi"
      },
      "source": [
        "## **#3 Conclusion**\n",
        "\n",
        "\n",
        "1.   The Category gives the highest profit is obtained by Technology. The second place is the office supplies and the last order is furniture.\n",
        "2.   The sub-category of products that sold the most was Binders, Paper, Furnishings, Phones, and Storage.\n",
        "3.   In this case, discounts have no effect on the number of product purchases, while discounts also do not really have an effect on profits. \n",
        "4.   The total loss obtained was 156112.98 with the largest contributor to the loss was furniture, which was 39% of the total loss. Meanwhile, the product that contributed the largest loss was binders with a loss of nearly 40000.\n",
        "5.   'Consumer' segment spend the most on their purchases, which was more than 50% from total sales.\n",
        "6.  Customer from California the most frequently order. The next state are New York, Texas, Pennsylvania, and Washington. \n",
        "7.  West US region gives the most profit from product they bought. "
      ]
    },
    {
      "cell_type": "markdown",
      "metadata": {
        "id": "Vdu8BbJx3-w1"
      },
      "source": [
        "# #4 Suggestion\n",
        "Superstore should focus on increasing sales in the technology category because in addition to providing the least loss it also provides the greatest profit."
      ]
    }
  ]
}